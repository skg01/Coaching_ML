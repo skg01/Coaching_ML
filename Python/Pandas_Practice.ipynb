{
 "metadata": {
  "language_info": {
   "codemirror_mode": {
    "name": "ipython",
    "version": 3
   },
   "file_extension": ".py",
   "mimetype": "text/x-python",
   "name": "python",
   "nbconvert_exporter": "python",
   "pygments_lexer": "ipython3",
   "version": "3.8.1-final"
  },
  "orig_nbformat": 2,
  "kernelspec": {
   "name": "Python 3.8.1 64-bit",
   "display_name": "Python 3.8.1 64-bit",
   "metadata": {
    "interpreter": {
     "hash": "aee8b7b246df8f9039afb4144a1f6fd8d2ca17a180786b69acc140d282b71a49"
    }
   }
  }
 },
 "nbformat": 4,
 "nbformat_minor": 2,
 "cells": [
  {
   "cell_type": "code",
   "execution_count": 10,
   "metadata": {},
   "outputs": [],
   "source": [
    "import pandas as pd\n",
    "import numpy as np"
   ]
  },
  {
   "cell_type": "markdown",
   "metadata": {},
   "source": [
    "Pandas Documentation\n",
    "https://pandas.pydata.org/pandas-docs/stable/reference/api/pandas.DataFrame.loc.html"
   ]
  },
  {
   "cell_type": "code",
   "execution_count": null,
   "metadata": {},
   "outputs": [],
   "source": [
    "data = pd.DataFrame({\"Order_No\": [\"Ord1\",\"Ord1\",\"Ord2\",\"Ord2\",\"Ord2\",\"Ord3\",\"Ord3\",\"Ord3\",\"Ord4\"], \n",
    "    \"Product_Name\": [\"Apple\",\"Banana\",\"Grape\",\"Apple\",\"Mango\",\"Banana\",\"Grape\",\"Apple\",\"Cherries\"],\n",
    "    \"Product_Quantly\": [1,10,4,6,5,4,5,6,7],\n",
    "    \"Price_per_Piece\" : [10,2,20,10,45,2,20,10,100]})\n",
    "data"
   ]
  },
  {
   "cell_type": "code",
   "execution_count": null,
   "metadata": {},
   "outputs": [],
   "source": [
    "#Display a summary of the basic information about this DataFrame and its data \n",
    "data.shape"
   ]
  },
  {
   "cell_type": "code",
   "execution_count": null,
   "metadata": {},
   "outputs": [],
   "source": [
    "data.info()"
   ]
  },
  {
   "cell_type": "code",
   "execution_count": null,
   "metadata": {},
   "outputs": [],
   "source": [
    "data.describe()"
   ]
  },
  {
   "cell_type": "code",
   "execution_count": 11,
   "metadata": {},
   "outputs": [
    {
     "output_type": "execute_result",
     "data": {
      "text/plain": [
       "  Order_No Product_Name  Product_Quantly  Price_per_Piece\n",
       "0     Ord1        Apple                1               10\n",
       "1     Ord1       Banana               10                2\n",
       "2     Ord2        Grape                4               20\n",
       "3     Ord2        Apple                6               10\n",
       "4     Ord2        Mango                5               45"
      ],
      "text/html": "<div>\n<style scoped>\n    .dataframe tbody tr th:only-of-type {\n        vertical-align: middle;\n    }\n\n    .dataframe tbody tr th {\n        vertical-align: top;\n    }\n\n    .dataframe thead th {\n        text-align: right;\n    }\n</style>\n<table border=\"1\" class=\"dataframe\">\n  <thead>\n    <tr style=\"text-align: right;\">\n      <th></th>\n      <th>Order_No</th>\n      <th>Product_Name</th>\n      <th>Product_Quantly</th>\n      <th>Price_per_Piece</th>\n    </tr>\n  </thead>\n  <tbody>\n    <tr>\n      <th>0</th>\n      <td>Ord1</td>\n      <td>Apple</td>\n      <td>1</td>\n      <td>10</td>\n    </tr>\n    <tr>\n      <th>1</th>\n      <td>Ord1</td>\n      <td>Banana</td>\n      <td>10</td>\n      <td>2</td>\n    </tr>\n    <tr>\n      <th>2</th>\n      <td>Ord2</td>\n      <td>Grape</td>\n      <td>4</td>\n      <td>20</td>\n    </tr>\n    <tr>\n      <th>3</th>\n      <td>Ord2</td>\n      <td>Apple</td>\n      <td>6</td>\n      <td>10</td>\n    </tr>\n    <tr>\n      <th>4</th>\n      <td>Ord2</td>\n      <td>Mango</td>\n      <td>5</td>\n      <td>45</td>\n    </tr>\n  </tbody>\n</table>\n</div>"
     },
     "metadata": {},
     "execution_count": 11
    }
   ],
   "source": [
    "data.head()"
   ]
  },
  {
   "cell_type": "markdown",
   "metadata": {},
   "source": [
    "# Indexing"
   ]
  },
  {
   "cell_type": "code",
   "execution_count": 23,
   "metadata": {},
   "outputs": [
    {
     "output_type": "execute_result",
     "data": {
      "text/plain": [
       "  Order_No Product_Name  Product_Quantly  Price_per_Piece\n",
       "1     Ord1       Banana               10                2"
      ],
      "text/html": "<div>\n<style scoped>\n    .dataframe tbody tr th:only-of-type {\n        vertical-align: middle;\n    }\n\n    .dataframe tbody tr th {\n        vertical-align: top;\n    }\n\n    .dataframe thead th {\n        text-align: right;\n    }\n</style>\n<table border=\"1\" class=\"dataframe\">\n  <thead>\n    <tr style=\"text-align: right;\">\n      <th></th>\n      <th>Order_No</th>\n      <th>Product_Name</th>\n      <th>Product_Quantly</th>\n      <th>Price_per_Piece</th>\n    </tr>\n  </thead>\n  <tbody>\n    <tr>\n      <th>1</th>\n      <td>Ord1</td>\n      <td>Banana</td>\n      <td>10</td>\n      <td>2</td>\n    </tr>\n  </tbody>\n</table>\n</div>"
     },
     "metadata": {},
     "execution_count": 23
    }
   ],
   "source": [
    "data.iloc[[1]]"
   ]
  },
  {
   "cell_type": "code",
   "execution_count": 16,
   "metadata": {},
   "outputs": [
    {
     "output_type": "execute_result",
     "data": {
      "text/plain": [
       "0       Apple\n",
       "1      Banana\n",
       "2       Grape\n",
       "3       Apple\n",
       "4       Mango\n",
       "5      Banana\n",
       "6       Grape\n",
       "7       Apple\n",
       "8    Cherries\n",
       "Name: Product_Name, dtype: object"
      ]
     },
     "metadata": {},
     "execution_count": 16
    }
   ],
   "source": [
    "data['Product_Name']"
   ]
  },
  {
   "cell_type": "code",
   "execution_count": 24,
   "metadata": {},
   "outputs": [
    {
     "output_type": "execute_result",
     "data": {
      "text/plain": [
       "Order_No            Ord2\n",
       "Product_Name       Grape\n",
       "Product_Quantly        4\n",
       "Price_per_Piece       20\n",
       "Name: 2, dtype: object"
      ]
     },
     "metadata": {},
     "execution_count": 24
    }
   ],
   "source": [
    "data.iloc[2]"
   ]
  },
  {
   "cell_type": "code",
   "execution_count": 25,
   "metadata": {},
   "outputs": [
    {
     "output_type": "execute_result",
     "data": {
      "text/plain": [
       "  Product_Name  Product_Quantly\n",
       "2        Grape                4\n",
       "4        Mango                5"
      ],
      "text/html": "<div>\n<style scoped>\n    .dataframe tbody tr th:only-of-type {\n        vertical-align: middle;\n    }\n\n    .dataframe tbody tr th {\n        vertical-align: top;\n    }\n\n    .dataframe thead th {\n        text-align: right;\n    }\n</style>\n<table border=\"1\" class=\"dataframe\">\n  <thead>\n    <tr style=\"text-align: right;\">\n      <th></th>\n      <th>Product_Name</th>\n      <th>Product_Quantly</th>\n    </tr>\n  </thead>\n  <tbody>\n    <tr>\n      <th>2</th>\n      <td>Grape</td>\n      <td>4</td>\n    </tr>\n    <tr>\n      <th>4</th>\n      <td>Mango</td>\n      <td>5</td>\n    </tr>\n  </tbody>\n</table>\n</div>"
     },
     "metadata": {},
     "execution_count": 25
    }
   ],
   "source": [
    "data.iloc[[2,4],[1,2]]"
   ]
  },
  {
   "cell_type": "code",
   "execution_count": null,
   "metadata": {},
   "outputs": [],
   "source": [
    "data.iloc[[2,4],[True,False,True,False]]"
   ]
  },
  {
   "cell_type": "code",
   "execution_count": 26,
   "metadata": {},
   "outputs": [
    {
     "output_type": "execute_result",
     "data": {
      "text/plain": [
       "0       Apple\n",
       "1      Banana\n",
       "2       Grape\n",
       "3       Apple\n",
       "4       Mango\n",
       "5      Banana\n",
       "6       Grape\n",
       "7       Apple\n",
       "8    Cherries\n",
       "Name: Product_Name, dtype: object"
      ]
     },
     "metadata": {},
     "execution_count": 26
    }
   ],
   "source": [
    "data[\"Product_Name\"]"
   ]
  },
  {
   "cell_type": "markdown",
   "metadata": {},
   "source": [
    "# Set Index"
   ]
  },
  {
   "cell_type": "code",
   "execution_count": 34,
   "metadata": {},
   "outputs": [
    {
     "output_type": "execute_result",
     "data": {
      "text/plain": [
       "         Product_Name  Product_Quantly  Price_per_Piece\n",
       "Order_No                                               \n",
       "Ord1            Apple                1               10\n",
       "Ord1           Banana               10                2\n",
       "Ord2            Grape                4               20\n",
       "Ord2            Apple                6               10\n",
       "Ord2            Mango                5               45\n",
       "Ord3           Banana                4                2\n",
       "Ord3            Grape                5               20\n",
       "Ord3            Apple                6               10\n",
       "Ord4         Cherries                7              100"
      ],
      "text/html": "<div>\n<style scoped>\n    .dataframe tbody tr th:only-of-type {\n        vertical-align: middle;\n    }\n\n    .dataframe tbody tr th {\n        vertical-align: top;\n    }\n\n    .dataframe thead th {\n        text-align: right;\n    }\n</style>\n<table border=\"1\" class=\"dataframe\">\n  <thead>\n    <tr style=\"text-align: right;\">\n      <th></th>\n      <th>Product_Name</th>\n      <th>Product_Quantly</th>\n      <th>Price_per_Piece</th>\n    </tr>\n    <tr>\n      <th>Order_No</th>\n      <th></th>\n      <th></th>\n      <th></th>\n    </tr>\n  </thead>\n  <tbody>\n    <tr>\n      <th>Ord1</th>\n      <td>Apple</td>\n      <td>1</td>\n      <td>10</td>\n    </tr>\n    <tr>\n      <th>Ord1</th>\n      <td>Banana</td>\n      <td>10</td>\n      <td>2</td>\n    </tr>\n    <tr>\n      <th>Ord2</th>\n      <td>Grape</td>\n      <td>4</td>\n      <td>20</td>\n    </tr>\n    <tr>\n      <th>Ord2</th>\n      <td>Apple</td>\n      <td>6</td>\n      <td>10</td>\n    </tr>\n    <tr>\n      <th>Ord2</th>\n      <td>Mango</td>\n      <td>5</td>\n      <td>45</td>\n    </tr>\n    <tr>\n      <th>Ord3</th>\n      <td>Banana</td>\n      <td>4</td>\n      <td>2</td>\n    </tr>\n    <tr>\n      <th>Ord3</th>\n      <td>Grape</td>\n      <td>5</td>\n      <td>20</td>\n    </tr>\n    <tr>\n      <th>Ord3</th>\n      <td>Apple</td>\n      <td>6</td>\n      <td>10</td>\n    </tr>\n    <tr>\n      <th>Ord4</th>\n      <td>Cherries</td>\n      <td>7</td>\n      <td>100</td>\n    </tr>\n  </tbody>\n</table>\n</div>"
     },
     "metadata": {},
     "execution_count": 34
    }
   ],
   "source": [
    "data_index = data.set_index(\"Order_No\")\n",
    "data_index"
   ]
  },
  {
   "cell_type": "code",
   "execution_count": 35,
   "metadata": {},
   "outputs": [
    {
     "output_type": "execute_result",
     "data": {
      "text/plain": [
       "Product_Name       Banana\n",
       "Product_Quantly        10\n",
       "Price_per_Piece         2\n",
       "Name: Ord1, dtype: object"
      ]
     },
     "metadata": {},
     "execution_count": 35
    }
   ],
   "source": [
    "data_index.iloc[1]"
   ]
  },
  {
   "cell_type": "code",
   "execution_count": null,
   "metadata": {},
   "outputs": [],
   "source": [
    "q = 10"
   ]
  },
  {
   "cell_type": "code",
   "execution_count": 36,
   "metadata": {},
   "outputs": [
    {
     "output_type": "execute_result",
     "data": {
      "text/plain": [
       "         Product_Name  Product_Quantly  Price_per_Piece\n",
       "Order_No                                               \n",
       "Ord3           Banana                4                2\n",
       "Ord3            Grape                5               20\n",
       "Ord3            Apple                6               10"
      ],
      "text/html": "<div>\n<style scoped>\n    .dataframe tbody tr th:only-of-type {\n        vertical-align: middle;\n    }\n\n    .dataframe tbody tr th {\n        vertical-align: top;\n    }\n\n    .dataframe thead th {\n        text-align: right;\n    }\n</style>\n<table border=\"1\" class=\"dataframe\">\n  <thead>\n    <tr style=\"text-align: right;\">\n      <th></th>\n      <th>Product_Name</th>\n      <th>Product_Quantly</th>\n      <th>Price_per_Piece</th>\n    </tr>\n    <tr>\n      <th>Order_No</th>\n      <th></th>\n      <th></th>\n      <th></th>\n    </tr>\n  </thead>\n  <tbody>\n    <tr>\n      <th>Ord3</th>\n      <td>Banana</td>\n      <td>4</td>\n      <td>2</td>\n    </tr>\n    <tr>\n      <th>Ord3</th>\n      <td>Grape</td>\n      <td>5</td>\n      <td>20</td>\n    </tr>\n    <tr>\n      <th>Ord3</th>\n      <td>Apple</td>\n      <td>6</td>\n      <td>10</td>\n    </tr>\n  </tbody>\n</table>\n</div>"
     },
     "metadata": {},
     "execution_count": 36
    }
   ],
   "source": [
    "data_index.loc[\"Ord3\"]"
   ]
  },
  {
   "cell_type": "code",
   "execution_count": 37,
   "metadata": {},
   "outputs": [
    {
     "output_type": "execute_result",
     "data": {
      "text/plain": [
       "         Product_Name  Product_Quantly  Price_per_Piece\n",
       "Order_No                                               \n",
       "Ord1            Apple                1               10\n",
       "Ord1           Banana               10                2\n",
       "Ord2            Grape                4               20\n",
       "Ord2            Apple                6               10\n",
       "Ord2            Mango                5               45"
      ],
      "text/html": "<div>\n<style scoped>\n    .dataframe tbody tr th:only-of-type {\n        vertical-align: middle;\n    }\n\n    .dataframe tbody tr th {\n        vertical-align: top;\n    }\n\n    .dataframe thead th {\n        text-align: right;\n    }\n</style>\n<table border=\"1\" class=\"dataframe\">\n  <thead>\n    <tr style=\"text-align: right;\">\n      <th></th>\n      <th>Product_Name</th>\n      <th>Product_Quantly</th>\n      <th>Price_per_Piece</th>\n    </tr>\n    <tr>\n      <th>Order_No</th>\n      <th></th>\n      <th></th>\n      <th></th>\n    </tr>\n  </thead>\n  <tbody>\n    <tr>\n      <th>Ord1</th>\n      <td>Apple</td>\n      <td>1</td>\n      <td>10</td>\n    </tr>\n    <tr>\n      <th>Ord1</th>\n      <td>Banana</td>\n      <td>10</td>\n      <td>2</td>\n    </tr>\n    <tr>\n      <th>Ord2</th>\n      <td>Grape</td>\n      <td>4</td>\n      <td>20</td>\n    </tr>\n    <tr>\n      <th>Ord2</th>\n      <td>Apple</td>\n      <td>6</td>\n      <td>10</td>\n    </tr>\n    <tr>\n      <th>Ord2</th>\n      <td>Mango</td>\n      <td>5</td>\n      <td>45</td>\n    </tr>\n  </tbody>\n</table>\n</div>"
     },
     "metadata": {},
     "execution_count": 37
    }
   ],
   "source": [
    "data_index.loc[[\"Ord1\",\"Ord2\"]]"
   ]
  },
  {
   "cell_type": "code",
   "execution_count": 38,
   "metadata": {},
   "outputs": [
    {
     "output_type": "execute_result",
     "data": {
      "text/plain": [
       "         Product_Name  Product_Quantly  Price_per_Piece\n",
       "Order_No                                               \n",
       "Ord1            Apple                1               10\n",
       "Ord1           Banana               10                2\n",
       "Ord2            Grape                4               20\n",
       "Ord2            Apple                6               10\n",
       "Ord2            Mango                5               45\n",
       "Ord3           Banana                4                2\n",
       "Ord3            Grape                5               20\n",
       "Ord3            Apple                6               10\n",
       "Ord4         Cherries                7              100"
      ],
      "text/html": "<div>\n<style scoped>\n    .dataframe tbody tr th:only-of-type {\n        vertical-align: middle;\n    }\n\n    .dataframe tbody tr th {\n        vertical-align: top;\n    }\n\n    .dataframe thead th {\n        text-align: right;\n    }\n</style>\n<table border=\"1\" class=\"dataframe\">\n  <thead>\n    <tr style=\"text-align: right;\">\n      <th></th>\n      <th>Product_Name</th>\n      <th>Product_Quantly</th>\n      <th>Price_per_Piece</th>\n    </tr>\n    <tr>\n      <th>Order_No</th>\n      <th></th>\n      <th></th>\n      <th></th>\n    </tr>\n  </thead>\n  <tbody>\n    <tr>\n      <th>Ord1</th>\n      <td>Apple</td>\n      <td>1</td>\n      <td>10</td>\n    </tr>\n    <tr>\n      <th>Ord1</th>\n      <td>Banana</td>\n      <td>10</td>\n      <td>2</td>\n    </tr>\n    <tr>\n      <th>Ord2</th>\n      <td>Grape</td>\n      <td>4</td>\n      <td>20</td>\n    </tr>\n    <tr>\n      <th>Ord2</th>\n      <td>Apple</td>\n      <td>6</td>\n      <td>10</td>\n    </tr>\n    <tr>\n      <th>Ord2</th>\n      <td>Mango</td>\n      <td>5</td>\n      <td>45</td>\n    </tr>\n    <tr>\n      <th>Ord3</th>\n      <td>Banana</td>\n      <td>4</td>\n      <td>2</td>\n    </tr>\n    <tr>\n      <th>Ord3</th>\n      <td>Grape</td>\n      <td>5</td>\n      <td>20</td>\n    </tr>\n    <tr>\n      <th>Ord3</th>\n      <td>Apple</td>\n      <td>6</td>\n      <td>10</td>\n    </tr>\n    <tr>\n      <th>Ord4</th>\n      <td>Cherries</td>\n      <td>7</td>\n      <td>100</td>\n    </tr>\n  </tbody>\n</table>\n</div>"
     },
     "metadata": {},
     "execution_count": 38
    }
   ],
   "source": [
    "data_index"
   ]
  },
  {
   "cell_type": "code",
   "execution_count": 39,
   "metadata": {},
   "outputs": [],
   "source": [
    "data_index.loc['Ord1'] = 10"
   ]
  },
  {
   "cell_type": "code",
   "execution_count": 40,
   "metadata": {},
   "outputs": [
    {
     "output_type": "execute_result",
     "data": {
      "text/plain": [
       "         Product_Name  Product_Quantly  Price_per_Piece\n",
       "Order_No                                               \n",
       "Ord1               10               10               10\n",
       "Ord1               10               10               10\n",
       "Ord2            Grape                4               20\n",
       "Ord2            Apple                6               10\n",
       "Ord2            Mango                5               45\n",
       "Ord3           Banana                4                2\n",
       "Ord3            Grape                5               20\n",
       "Ord3            Apple                6               10\n",
       "Ord4         Cherries                7              100"
      ],
      "text/html": "<div>\n<style scoped>\n    .dataframe tbody tr th:only-of-type {\n        vertical-align: middle;\n    }\n\n    .dataframe tbody tr th {\n        vertical-align: top;\n    }\n\n    .dataframe thead th {\n        text-align: right;\n    }\n</style>\n<table border=\"1\" class=\"dataframe\">\n  <thead>\n    <tr style=\"text-align: right;\">\n      <th></th>\n      <th>Product_Name</th>\n      <th>Product_Quantly</th>\n      <th>Price_per_Piece</th>\n    </tr>\n    <tr>\n      <th>Order_No</th>\n      <th></th>\n      <th></th>\n      <th></th>\n    </tr>\n  </thead>\n  <tbody>\n    <tr>\n      <th>Ord1</th>\n      <td>10</td>\n      <td>10</td>\n      <td>10</td>\n    </tr>\n    <tr>\n      <th>Ord1</th>\n      <td>10</td>\n      <td>10</td>\n      <td>10</td>\n    </tr>\n    <tr>\n      <th>Ord2</th>\n      <td>Grape</td>\n      <td>4</td>\n      <td>20</td>\n    </tr>\n    <tr>\n      <th>Ord2</th>\n      <td>Apple</td>\n      <td>6</td>\n      <td>10</td>\n    </tr>\n    <tr>\n      <th>Ord2</th>\n      <td>Mango</td>\n      <td>5</td>\n      <td>45</td>\n    </tr>\n    <tr>\n      <th>Ord3</th>\n      <td>Banana</td>\n      <td>4</td>\n      <td>2</td>\n    </tr>\n    <tr>\n      <th>Ord3</th>\n      <td>Grape</td>\n      <td>5</td>\n      <td>20</td>\n    </tr>\n    <tr>\n      <th>Ord3</th>\n      <td>Apple</td>\n      <td>6</td>\n      <td>10</td>\n    </tr>\n    <tr>\n      <th>Ord4</th>\n      <td>Cherries</td>\n      <td>7</td>\n      <td>100</td>\n    </tr>\n  </tbody>\n</table>\n</div>"
     },
     "metadata": {},
     "execution_count": 40
    }
   ],
   "source": [
    "data_index"
   ]
  },
  {
   "cell_type": "code",
   "execution_count": 41,
   "metadata": {},
   "outputs": [],
   "source": [
    "data_index.loc['Ord2',\"Product_Quantly\"] = 100"
   ]
  },
  {
   "cell_type": "code",
   "execution_count": 42,
   "metadata": {},
   "outputs": [
    {
     "output_type": "execute_result",
     "data": {
      "text/plain": [
       "         Product_Name  Product_Quantly  Price_per_Piece\n",
       "Order_No                                               \n",
       "Ord1               10               10               10\n",
       "Ord1               10               10               10\n",
       "Ord2            Grape              100               20\n",
       "Ord2            Apple              100               10\n",
       "Ord2            Mango              100               45\n",
       "Ord3           Banana                4                2\n",
       "Ord3            Grape                5               20\n",
       "Ord3            Apple                6               10\n",
       "Ord4         Cherries                7              100"
      ],
      "text/html": "<div>\n<style scoped>\n    .dataframe tbody tr th:only-of-type {\n        vertical-align: middle;\n    }\n\n    .dataframe tbody tr th {\n        vertical-align: top;\n    }\n\n    .dataframe thead th {\n        text-align: right;\n    }\n</style>\n<table border=\"1\" class=\"dataframe\">\n  <thead>\n    <tr style=\"text-align: right;\">\n      <th></th>\n      <th>Product_Name</th>\n      <th>Product_Quantly</th>\n      <th>Price_per_Piece</th>\n    </tr>\n    <tr>\n      <th>Order_No</th>\n      <th></th>\n      <th></th>\n      <th></th>\n    </tr>\n  </thead>\n  <tbody>\n    <tr>\n      <th>Ord1</th>\n      <td>10</td>\n      <td>10</td>\n      <td>10</td>\n    </tr>\n    <tr>\n      <th>Ord1</th>\n      <td>10</td>\n      <td>10</td>\n      <td>10</td>\n    </tr>\n    <tr>\n      <th>Ord2</th>\n      <td>Grape</td>\n      <td>100</td>\n      <td>20</td>\n    </tr>\n    <tr>\n      <th>Ord2</th>\n      <td>Apple</td>\n      <td>100</td>\n      <td>10</td>\n    </tr>\n    <tr>\n      <th>Ord2</th>\n      <td>Mango</td>\n      <td>100</td>\n      <td>45</td>\n    </tr>\n    <tr>\n      <th>Ord3</th>\n      <td>Banana</td>\n      <td>4</td>\n      <td>2</td>\n    </tr>\n    <tr>\n      <th>Ord3</th>\n      <td>Grape</td>\n      <td>5</td>\n      <td>20</td>\n    </tr>\n    <tr>\n      <th>Ord3</th>\n      <td>Apple</td>\n      <td>6</td>\n      <td>10</td>\n    </tr>\n    <tr>\n      <th>Ord4</th>\n      <td>Cherries</td>\n      <td>7</td>\n      <td>100</td>\n    </tr>\n  </tbody>\n</table>\n</div>"
     },
     "metadata": {},
     "execution_count": 42
    }
   ],
   "source": [
    "data_index"
   ]
  },
  {
   "cell_type": "code",
   "execution_count": 44,
   "metadata": {},
   "outputs": [
    {
     "output_type": "execute_result",
     "data": {
      "text/plain": [
       "  Order_No Product_Name  Product_Quantly  Price_per_Piece\n",
       "0     Ord1        Apple                1               10\n",
       "1     Ord1       Banana               10                2\n",
       "2     Ord2        Grape                4               20\n",
       "3     Ord2        Apple                6               10\n",
       "4     Ord2        Mango                5               45\n",
       "5     Ord3       Banana                4                2\n",
       "6     Ord3        Grape                5               20\n",
       "7     Ord3        Apple                6               10\n",
       "8     Ord4     Cherries                7              100"
      ],
      "text/html": "<div>\n<style scoped>\n    .dataframe tbody tr th:only-of-type {\n        vertical-align: middle;\n    }\n\n    .dataframe tbody tr th {\n        vertical-align: top;\n    }\n\n    .dataframe thead th {\n        text-align: right;\n    }\n</style>\n<table border=\"1\" class=\"dataframe\">\n  <thead>\n    <tr style=\"text-align: right;\">\n      <th></th>\n      <th>Order_No</th>\n      <th>Product_Name</th>\n      <th>Product_Quantly</th>\n      <th>Price_per_Piece</th>\n    </tr>\n  </thead>\n  <tbody>\n    <tr>\n      <th>0</th>\n      <td>Ord1</td>\n      <td>Apple</td>\n      <td>1</td>\n      <td>10</td>\n    </tr>\n    <tr>\n      <th>1</th>\n      <td>Ord1</td>\n      <td>Banana</td>\n      <td>10</td>\n      <td>2</td>\n    </tr>\n    <tr>\n      <th>2</th>\n      <td>Ord2</td>\n      <td>Grape</td>\n      <td>4</td>\n      <td>20</td>\n    </tr>\n    <tr>\n      <th>3</th>\n      <td>Ord2</td>\n      <td>Apple</td>\n      <td>6</td>\n      <td>10</td>\n    </tr>\n    <tr>\n      <th>4</th>\n      <td>Ord2</td>\n      <td>Mango</td>\n      <td>5</td>\n      <td>45</td>\n    </tr>\n    <tr>\n      <th>5</th>\n      <td>Ord3</td>\n      <td>Banana</td>\n      <td>4</td>\n      <td>2</td>\n    </tr>\n    <tr>\n      <th>6</th>\n      <td>Ord3</td>\n      <td>Grape</td>\n      <td>5</td>\n      <td>20</td>\n    </tr>\n    <tr>\n      <th>7</th>\n      <td>Ord3</td>\n      <td>Apple</td>\n      <td>6</td>\n      <td>10</td>\n    </tr>\n    <tr>\n      <th>8</th>\n      <td>Ord4</td>\n      <td>Cherries</td>\n      <td>7</td>\n      <td>100</td>\n    </tr>\n  </tbody>\n</table>\n</div>"
     },
     "metadata": {},
     "execution_count": 44
    }
   ],
   "source": [
    "data"
   ]
  },
  {
   "cell_type": "markdown",
   "metadata": {},
   "source": [
    "## Selecting Data"
   ]
  },
  {
   "cell_type": "code",
   "execution_count": 43,
   "metadata": {},
   "outputs": [
    {
     "output_type": "execute_result",
     "data": {
      "text/plain": [
       "0     True\n",
       "1     True\n",
       "2    False\n",
       "3    False\n",
       "4    False\n",
       "5    False\n",
       "6    False\n",
       "7    False\n",
       "8    False\n",
       "Name: Order_No, dtype: bool"
      ]
     },
     "metadata": {},
     "execution_count": 43
    }
   ],
   "source": [
    "data.Order_No == \"Ord1\""
   ]
  },
  {
   "cell_type": "code",
   "execution_count": 49,
   "metadata": {},
   "outputs": [
    {
     "output_type": "execute_result",
     "data": {
      "text/plain": [
       "  Order_No Product_Name  Product_Quantly  Price_per_Piece\n",
       "0     Ord1        Apple                1               10\n",
       "3     Ord2        Apple                6               10\n",
       "7     Ord3        Apple                6               10"
      ],
      "text/html": "<div>\n<style scoped>\n    .dataframe tbody tr th:only-of-type {\n        vertical-align: middle;\n    }\n\n    .dataframe tbody tr th {\n        vertical-align: top;\n    }\n\n    .dataframe thead th {\n        text-align: right;\n    }\n</style>\n<table border=\"1\" class=\"dataframe\">\n  <thead>\n    <tr style=\"text-align: right;\">\n      <th></th>\n      <th>Order_No</th>\n      <th>Product_Name</th>\n      <th>Product_Quantly</th>\n      <th>Price_per_Piece</th>\n    </tr>\n  </thead>\n  <tbody>\n    <tr>\n      <th>0</th>\n      <td>Ord1</td>\n      <td>Apple</td>\n      <td>1</td>\n      <td>10</td>\n    </tr>\n    <tr>\n      <th>3</th>\n      <td>Ord2</td>\n      <td>Apple</td>\n      <td>6</td>\n      <td>10</td>\n    </tr>\n    <tr>\n      <th>7</th>\n      <td>Ord3</td>\n      <td>Apple</td>\n      <td>6</td>\n      <td>10</td>\n    </tr>\n  </tbody>\n</table>\n</div>"
     },
     "metadata": {},
     "execution_count": 49
    }
   ],
   "source": [
    "data[(data.Product_Name == \"Apple\")]"
   ]
  },
  {
   "cell_type": "markdown",
   "metadata": {},
   "source": [
    "## Creating New Fields"
   ]
  },
  {
   "cell_type": "code",
   "execution_count": 50,
   "metadata": {},
   "outputs": [],
   "source": [
    "data['Price'] = data['Product_Quantly']*data['Price_per_Piece']"
   ]
  },
  {
   "cell_type": "code",
   "execution_count": 51,
   "metadata": {},
   "outputs": [
    {
     "output_type": "execute_result",
     "data": {
      "text/plain": [
       "  Order_No Product_Name  Product_Quantly  Price_per_Piece  Price\n",
       "0     Ord1        Apple                1               10     10\n",
       "1     Ord1       Banana               10                2     20\n",
       "2     Ord2        Grape                4               20     80\n",
       "3     Ord2        Apple                6               10     60\n",
       "4     Ord2        Mango                5               45    225\n",
       "5     Ord3       Banana                4                2      8\n",
       "6     Ord3        Grape                5               20    100\n",
       "7     Ord3        Apple                6               10     60\n",
       "8     Ord4     Cherries                7              100    700"
      ],
      "text/html": "<div>\n<style scoped>\n    .dataframe tbody tr th:only-of-type {\n        vertical-align: middle;\n    }\n\n    .dataframe tbody tr th {\n        vertical-align: top;\n    }\n\n    .dataframe thead th {\n        text-align: right;\n    }\n</style>\n<table border=\"1\" class=\"dataframe\">\n  <thead>\n    <tr style=\"text-align: right;\">\n      <th></th>\n      <th>Order_No</th>\n      <th>Product_Name</th>\n      <th>Product_Quantly</th>\n      <th>Price_per_Piece</th>\n      <th>Price</th>\n    </tr>\n  </thead>\n  <tbody>\n    <tr>\n      <th>0</th>\n      <td>Ord1</td>\n      <td>Apple</td>\n      <td>1</td>\n      <td>10</td>\n      <td>10</td>\n    </tr>\n    <tr>\n      <th>1</th>\n      <td>Ord1</td>\n      <td>Banana</td>\n      <td>10</td>\n      <td>2</td>\n      <td>20</td>\n    </tr>\n    <tr>\n      <th>2</th>\n      <td>Ord2</td>\n      <td>Grape</td>\n      <td>4</td>\n      <td>20</td>\n      <td>80</td>\n    </tr>\n    <tr>\n      <th>3</th>\n      <td>Ord2</td>\n      <td>Apple</td>\n      <td>6</td>\n      <td>10</td>\n      <td>60</td>\n    </tr>\n    <tr>\n      <th>4</th>\n      <td>Ord2</td>\n      <td>Mango</td>\n      <td>5</td>\n      <td>45</td>\n      <td>225</td>\n    </tr>\n    <tr>\n      <th>5</th>\n      <td>Ord3</td>\n      <td>Banana</td>\n      <td>4</td>\n      <td>2</td>\n      <td>8</td>\n    </tr>\n    <tr>\n      <th>6</th>\n      <td>Ord3</td>\n      <td>Grape</td>\n      <td>5</td>\n      <td>20</td>\n      <td>100</td>\n    </tr>\n    <tr>\n      <th>7</th>\n      <td>Ord3</td>\n      <td>Apple</td>\n      <td>6</td>\n      <td>10</td>\n      <td>60</td>\n    </tr>\n    <tr>\n      <th>8</th>\n      <td>Ord4</td>\n      <td>Cherries</td>\n      <td>7</td>\n      <td>100</td>\n      <td>700</td>\n    </tr>\n  </tbody>\n</table>\n</div>"
     },
     "metadata": {},
     "execution_count": 51
    }
   ],
   "source": [
    "data"
   ]
  },
  {
   "cell_type": "markdown",
   "metadata": {},
   "source": [
    "## Grouping "
   ]
  },
  {
   "cell_type": "code",
   "execution_count": 52,
   "metadata": {},
   "outputs": [
    {
     "output_type": "execute_result",
     "data": {
      "text/plain": [
       "          Product_Quantly  Price_per_Piece  Price\n",
       "Order_No                                         \n",
       "Ord1                   11               12     30\n",
       "Ord2                   15               75    365\n",
       "Ord3                   15               32    168\n",
       "Ord4                    7              100    700"
      ],
      "text/html": "<div>\n<style scoped>\n    .dataframe tbody tr th:only-of-type {\n        vertical-align: middle;\n    }\n\n    .dataframe tbody tr th {\n        vertical-align: top;\n    }\n\n    .dataframe thead th {\n        text-align: right;\n    }\n</style>\n<table border=\"1\" class=\"dataframe\">\n  <thead>\n    <tr style=\"text-align: right;\">\n      <th></th>\n      <th>Product_Quantly</th>\n      <th>Price_per_Piece</th>\n      <th>Price</th>\n    </tr>\n    <tr>\n      <th>Order_No</th>\n      <th></th>\n      <th></th>\n      <th></th>\n    </tr>\n  </thead>\n  <tbody>\n    <tr>\n      <th>Ord1</th>\n      <td>11</td>\n      <td>12</td>\n      <td>30</td>\n    </tr>\n    <tr>\n      <th>Ord2</th>\n      <td>15</td>\n      <td>75</td>\n      <td>365</td>\n    </tr>\n    <tr>\n      <th>Ord3</th>\n      <td>15</td>\n      <td>32</td>\n      <td>168</td>\n    </tr>\n    <tr>\n      <th>Ord4</th>\n      <td>7</td>\n      <td>100</td>\n      <td>700</td>\n    </tr>\n  </tbody>\n</table>\n</div>"
     },
     "metadata": {},
     "execution_count": 52
    }
   ],
   "source": [
    "data.groupby(['Order_No']).sum()"
   ]
  },
  {
   "cell_type": "code",
   "execution_count": 57,
   "metadata": {},
   "outputs": [
    {
     "output_type": "execute_result",
     "data": {
      "text/plain": [
       "              Product_Quantly  Price_per_Piece\n",
       "Product_Name                                  \n",
       "Apple                      13               30\n",
       "Banana                     14                4\n",
       "Cherries                    7              100\n",
       "Grape                       9               40\n",
       "Mango                       5               45"
      ],
      "text/html": "<div>\n<style scoped>\n    .dataframe tbody tr th:only-of-type {\n        vertical-align: middle;\n    }\n\n    .dataframe tbody tr th {\n        vertical-align: top;\n    }\n\n    .dataframe thead th {\n        text-align: right;\n    }\n</style>\n<table border=\"1\" class=\"dataframe\">\n  <thead>\n    <tr style=\"text-align: right;\">\n      <th></th>\n      <th>Product_Quantly</th>\n      <th>Price_per_Piece</th>\n    </tr>\n    <tr>\n      <th>Product_Name</th>\n      <th></th>\n      <th></th>\n    </tr>\n  </thead>\n  <tbody>\n    <tr>\n      <th>Apple</th>\n      <td>13</td>\n      <td>30</td>\n    </tr>\n    <tr>\n      <th>Banana</th>\n      <td>14</td>\n      <td>4</td>\n    </tr>\n    <tr>\n      <th>Cherries</th>\n      <td>7</td>\n      <td>100</td>\n    </tr>\n    <tr>\n      <th>Grape</th>\n      <td>9</td>\n      <td>40</td>\n    </tr>\n    <tr>\n      <th>Mango</th>\n      <td>5</td>\n      <td>45</td>\n    </tr>\n  </tbody>\n</table>\n</div>"
     },
     "metadata": {},
     "execution_count": 57
    }
   ],
   "source": [
    "data.groupby(['Product_Name'])[['Product_Quantly','Price_per_Piece']].sum()"
   ]
  },
  {
   "cell_type": "code",
   "execution_count": 62,
   "metadata": {},
   "outputs": [],
   "source": [
    "def sum1(x):\n",
    "    return np.sum(x)+100"
   ]
  },
  {
   "cell_type": "code",
   "execution_count": 59,
   "metadata": {},
   "outputs": [
    {
     "output_type": "execute_result",
     "data": {
      "text/plain": [
       "             Product_Quantly       Price_per_Piece\n",
       "                         sum count            mean\n",
       "Product_Name                                      \n",
       "Apple                     13     3              10\n",
       "Banana                    14     2               2\n",
       "Cherries                   7     1             100\n",
       "Grape                      9     2              20\n",
       "Mango                      5     1              45"
      ],
      "text/html": "<div>\n<style scoped>\n    .dataframe tbody tr th:only-of-type {\n        vertical-align: middle;\n    }\n\n    .dataframe tbody tr th {\n        vertical-align: top;\n    }\n\n    .dataframe thead tr th {\n        text-align: left;\n    }\n\n    .dataframe thead tr:last-of-type th {\n        text-align: right;\n    }\n</style>\n<table border=\"1\" class=\"dataframe\">\n  <thead>\n    <tr>\n      <th></th>\n      <th colspan=\"2\" halign=\"left\">Product_Quantly</th>\n      <th>Price_per_Piece</th>\n    </tr>\n    <tr>\n      <th></th>\n      <th>sum</th>\n      <th>count</th>\n      <th>mean</th>\n    </tr>\n    <tr>\n      <th>Product_Name</th>\n      <th></th>\n      <th></th>\n      <th></th>\n    </tr>\n  </thead>\n  <tbody>\n    <tr>\n      <th>Apple</th>\n      <td>13</td>\n      <td>3</td>\n      <td>10</td>\n    </tr>\n    <tr>\n      <th>Banana</th>\n      <td>14</td>\n      <td>2</td>\n      <td>2</td>\n    </tr>\n    <tr>\n      <th>Cherries</th>\n      <td>7</td>\n      <td>1</td>\n      <td>100</td>\n    </tr>\n    <tr>\n      <th>Grape</th>\n      <td>9</td>\n      <td>2</td>\n      <td>20</td>\n    </tr>\n    <tr>\n      <th>Mango</th>\n      <td>5</td>\n      <td>1</td>\n      <td>45</td>\n    </tr>\n  </tbody>\n</table>\n</div>"
     },
     "metadata": {},
     "execution_count": 59
    }
   ],
   "source": [
    "data.groupby(['Product_Name']).agg({\"Product_Quantly\":[\"sum\",\"count\"],\"Price_per_Piece\":\"mean\"})"
   ]
  },
  {
   "cell_type": "code",
   "execution_count": 64,
   "metadata": {},
   "outputs": [
    {
     "output_type": "execute_result",
     "data": {
      "text/plain": [
       "                      Product_Quantly       Price_per_Piece\n",
       "                                 sum1 count            mean\n",
       "Product_Name Order_No                                      \n",
       "Apple        Ord1                 101     1              10\n",
       "             Ord2                 106     1              10\n",
       "             Ord3                 106     1              10\n",
       "Banana       Ord1                 110     1               2\n",
       "             Ord3                 104     1               2\n",
       "Cherries     Ord4                 107     1             100\n",
       "Grape        Ord2                 104     1              20\n",
       "             Ord3                 105     1              20\n",
       "Mango        Ord2                 105     1              45"
      ],
      "text/html": "<div>\n<style scoped>\n    .dataframe tbody tr th:only-of-type {\n        vertical-align: middle;\n    }\n\n    .dataframe tbody tr th {\n        vertical-align: top;\n    }\n\n    .dataframe thead tr th {\n        text-align: left;\n    }\n\n    .dataframe thead tr:last-of-type th {\n        text-align: right;\n    }\n</style>\n<table border=\"1\" class=\"dataframe\">\n  <thead>\n    <tr>\n      <th></th>\n      <th></th>\n      <th colspan=\"2\" halign=\"left\">Product_Quantly</th>\n      <th>Price_per_Piece</th>\n    </tr>\n    <tr>\n      <th></th>\n      <th></th>\n      <th>sum1</th>\n      <th>count</th>\n      <th>mean</th>\n    </tr>\n    <tr>\n      <th>Product_Name</th>\n      <th>Order_No</th>\n      <th></th>\n      <th></th>\n      <th></th>\n    </tr>\n  </thead>\n  <tbody>\n    <tr>\n      <th rowspan=\"3\" valign=\"top\">Apple</th>\n      <th>Ord1</th>\n      <td>101</td>\n      <td>1</td>\n      <td>10</td>\n    </tr>\n    <tr>\n      <th>Ord2</th>\n      <td>106</td>\n      <td>1</td>\n      <td>10</td>\n    </tr>\n    <tr>\n      <th>Ord3</th>\n      <td>106</td>\n      <td>1</td>\n      <td>10</td>\n    </tr>\n    <tr>\n      <th rowspan=\"2\" valign=\"top\">Banana</th>\n      <th>Ord1</th>\n      <td>110</td>\n      <td>1</td>\n      <td>2</td>\n    </tr>\n    <tr>\n      <th>Ord3</th>\n      <td>104</td>\n      <td>1</td>\n      <td>2</td>\n    </tr>\n    <tr>\n      <th>Cherries</th>\n      <th>Ord4</th>\n      <td>107</td>\n      <td>1</td>\n      <td>100</td>\n    </tr>\n    <tr>\n      <th rowspan=\"2\" valign=\"top\">Grape</th>\n      <th>Ord2</th>\n      <td>104</td>\n      <td>1</td>\n      <td>20</td>\n    </tr>\n    <tr>\n      <th>Ord3</th>\n      <td>105</td>\n      <td>1</td>\n      <td>20</td>\n    </tr>\n    <tr>\n      <th>Mango</th>\n      <th>Ord2</th>\n      <td>105</td>\n      <td>1</td>\n      <td>45</td>\n    </tr>\n  </tbody>\n</table>\n</div>"
     },
     "metadata": {},
     "execution_count": 64
    }
   ],
   "source": [
    "data.groupby(['Product_Name','Order_No']).agg({\"Product_Quantly\":[sum1,\"count\"],\"Price_per_Piece\":\"mean\"})"
   ]
  },
  {
   "cell_type": "code",
   "execution_count": null,
   "metadata": {},
   "outputs": [],
   "source": [
    "data.groupby(['Order_No']).min()"
   ]
  },
  {
   "cell_type": "code",
   "execution_count": 56,
   "metadata": {},
   "outputs": [
    {
     "output_type": "execute_result",
     "data": {
      "text/plain": [
       "Product_Name\n",
       "Apple       130\n",
       "Banana       28\n",
       "Cherries    700\n",
       "Grape       180\n",
       "Mango       225\n",
       "Name: Price, dtype: int64"
      ]
     },
     "metadata": {},
     "execution_count": 56
    }
   ],
   "source": [
    "data.groupby(['Product_Name'])['Price'].sum()"
   ]
  },
  {
   "cell_type": "code",
   "execution_count": null,
   "metadata": {},
   "outputs": [],
   "source": [
    "data.groupby(['Order_No']).agg({\"Product_Quantly\": [\"count\",\"min\"],\n",
    "                               \"Price\": ['sum']})"
   ]
  },
  {
   "cell_type": "markdown",
   "metadata": {},
   "source": [
    "## Questions \n",
    "\n",
    "### 1 - Write code to get quantity of each fruit sold \n",
    "### 2 - Total Sales \n",
    "### 3 - Total Orders"
   ]
  },
  {
   "cell_type": "markdown",
   "metadata": {},
   "source": [
    "## Merging"
   ]
  },
  {
   "cell_type": "code",
   "execution_count": 75,
   "metadata": {},
   "outputs": [
    {
     "output_type": "execute_result",
     "data": {
      "text/plain": [
       "  Order_No Customer_Name  Price\n",
       "0     Ord1          John     10\n",
       "1     Ord2           Rob      3\n",
       "2     Ord3           Bob      4\n",
       "3     Ord5          Mike      5"
      ],
      "text/html": "<div>\n<style scoped>\n    .dataframe tbody tr th:only-of-type {\n        vertical-align: middle;\n    }\n\n    .dataframe tbody tr th {\n        vertical-align: top;\n    }\n\n    .dataframe thead th {\n        text-align: right;\n    }\n</style>\n<table border=\"1\" class=\"dataframe\">\n  <thead>\n    <tr style=\"text-align: right;\">\n      <th></th>\n      <th>Order_No</th>\n      <th>Customer_Name</th>\n      <th>Price</th>\n    </tr>\n  </thead>\n  <tbody>\n    <tr>\n      <th>0</th>\n      <td>Ord1</td>\n      <td>John</td>\n      <td>10</td>\n    </tr>\n    <tr>\n      <th>1</th>\n      <td>Ord2</td>\n      <td>Rob</td>\n      <td>3</td>\n    </tr>\n    <tr>\n      <th>2</th>\n      <td>Ord3</td>\n      <td>Bob</td>\n      <td>4</td>\n    </tr>\n    <tr>\n      <th>3</th>\n      <td>Ord5</td>\n      <td>Mike</td>\n      <td>5</td>\n    </tr>\n  </tbody>\n</table>\n</div>"
     },
     "metadata": {},
     "execution_count": 75
    }
   ],
   "source": [
    "customer_info = pd.DataFrame({\"Order_No\" : [\"Ord1\",\"Ord2\",\"Ord3\",\"Ord5\"],\n",
    "                              \"Customer_Name\" : [\"John\",\"Rob\",\"Bob\",\"Mike\"],\n",
    "                              \"Price\":[10,3,4,5]})\n",
    "customer_info                              "
   ]
  },
  {
   "cell_type": "code",
   "execution_count": 72,
   "metadata": {},
   "outputs": [
    {
     "output_type": "execute_result",
     "data": {
      "text/plain": [
       "  Order_No Product_Name  Product_Quantly  Price_per_Piece  Price\n",
       "0     Ord1        Apple                1               10     10\n",
       "1     Ord1       Banana               10                2     20\n",
       "2     Ord2        Grape                4               20     80\n",
       "3     Ord2        Apple                6               10     60\n",
       "4     Ord2        Mango                5               45    225\n",
       "5     Ord3       Banana                4                2      8\n",
       "6     Ord3        Grape                5               20    100\n",
       "7     Ord3        Apple                6               10     60\n",
       "8     Ord4     Cherries                7              100    700"
      ],
      "text/html": "<div>\n<style scoped>\n    .dataframe tbody tr th:only-of-type {\n        vertical-align: middle;\n    }\n\n    .dataframe tbody tr th {\n        vertical-align: top;\n    }\n\n    .dataframe thead th {\n        text-align: right;\n    }\n</style>\n<table border=\"1\" class=\"dataframe\">\n  <thead>\n    <tr style=\"text-align: right;\">\n      <th></th>\n      <th>Order_No</th>\n      <th>Product_Name</th>\n      <th>Product_Quantly</th>\n      <th>Price_per_Piece</th>\n      <th>Price</th>\n    </tr>\n  </thead>\n  <tbody>\n    <tr>\n      <th>0</th>\n      <td>Ord1</td>\n      <td>Apple</td>\n      <td>1</td>\n      <td>10</td>\n      <td>10</td>\n    </tr>\n    <tr>\n      <th>1</th>\n      <td>Ord1</td>\n      <td>Banana</td>\n      <td>10</td>\n      <td>2</td>\n      <td>20</td>\n    </tr>\n    <tr>\n      <th>2</th>\n      <td>Ord2</td>\n      <td>Grape</td>\n      <td>4</td>\n      <td>20</td>\n      <td>80</td>\n    </tr>\n    <tr>\n      <th>3</th>\n      <td>Ord2</td>\n      <td>Apple</td>\n      <td>6</td>\n      <td>10</td>\n      <td>60</td>\n    </tr>\n    <tr>\n      <th>4</th>\n      <td>Ord2</td>\n      <td>Mango</td>\n      <td>5</td>\n      <td>45</td>\n      <td>225</td>\n    </tr>\n    <tr>\n      <th>5</th>\n      <td>Ord3</td>\n      <td>Banana</td>\n      <td>4</td>\n      <td>2</td>\n      <td>8</td>\n    </tr>\n    <tr>\n      <th>6</th>\n      <td>Ord3</td>\n      <td>Grape</td>\n      <td>5</td>\n      <td>20</td>\n      <td>100</td>\n    </tr>\n    <tr>\n      <th>7</th>\n      <td>Ord3</td>\n      <td>Apple</td>\n      <td>6</td>\n      <td>10</td>\n      <td>60</td>\n    </tr>\n    <tr>\n      <th>8</th>\n      <td>Ord4</td>\n      <td>Cherries</td>\n      <td>7</td>\n      <td>100</td>\n      <td>700</td>\n    </tr>\n  </tbody>\n</table>\n</div>"
     },
     "metadata": {},
     "execution_count": 72
    }
   ],
   "source": [
    "data"
   ]
  },
  {
   "cell_type": "markdown",
   "metadata": {},
   "source": [
    "# How much John purchased?\n"
   ]
  },
  {
   "cell_type": "code",
   "execution_count": 77,
   "metadata": {},
   "outputs": [
    {
     "output_type": "execute_result",
     "data": {
      "text/plain": [
       "  Order_No Product_Name  Product_Quantly  Price_per_Piece  Price_x  \\\n",
       "0     Ord1        Apple                1               10       10   \n",
       "1     Ord1       Banana               10                2       20   \n",
       "2     Ord2        Grape                4               20       80   \n",
       "3     Ord2        Apple                6               10       60   \n",
       "4     Ord2        Mango                5               45      225   \n",
       "5     Ord3       Banana                4                2        8   \n",
       "6     Ord3        Grape                5               20      100   \n",
       "7     Ord3        Apple                6               10       60   \n",
       "\n",
       "  Customer_Name  Price_y  \n",
       "0          John       10  \n",
       "1          John       10  \n",
       "2           Rob        3  \n",
       "3           Rob        3  \n",
       "4           Rob        3  \n",
       "5           Bob        4  \n",
       "6           Bob        4  \n",
       "7           Bob        4  "
      ],
      "text/html": "<div>\n<style scoped>\n    .dataframe tbody tr th:only-of-type {\n        vertical-align: middle;\n    }\n\n    .dataframe tbody tr th {\n        vertical-align: top;\n    }\n\n    .dataframe thead th {\n        text-align: right;\n    }\n</style>\n<table border=\"1\" class=\"dataframe\">\n  <thead>\n    <tr style=\"text-align: right;\">\n      <th></th>\n      <th>Order_No</th>\n      <th>Product_Name</th>\n      <th>Product_Quantly</th>\n      <th>Price_per_Piece</th>\n      <th>Price_x</th>\n      <th>Customer_Name</th>\n      <th>Price_y</th>\n    </tr>\n  </thead>\n  <tbody>\n    <tr>\n      <th>0</th>\n      <td>Ord1</td>\n      <td>Apple</td>\n      <td>1</td>\n      <td>10</td>\n      <td>10</td>\n      <td>John</td>\n      <td>10</td>\n    </tr>\n    <tr>\n      <th>1</th>\n      <td>Ord1</td>\n      <td>Banana</td>\n      <td>10</td>\n      <td>2</td>\n      <td>20</td>\n      <td>John</td>\n      <td>10</td>\n    </tr>\n    <tr>\n      <th>2</th>\n      <td>Ord2</td>\n      <td>Grape</td>\n      <td>4</td>\n      <td>20</td>\n      <td>80</td>\n      <td>Rob</td>\n      <td>3</td>\n    </tr>\n    <tr>\n      <th>3</th>\n      <td>Ord2</td>\n      <td>Apple</td>\n      <td>6</td>\n      <td>10</td>\n      <td>60</td>\n      <td>Rob</td>\n      <td>3</td>\n    </tr>\n    <tr>\n      <th>4</th>\n      <td>Ord2</td>\n      <td>Mango</td>\n      <td>5</td>\n      <td>45</td>\n      <td>225</td>\n      <td>Rob</td>\n      <td>3</td>\n    </tr>\n    <tr>\n      <th>5</th>\n      <td>Ord3</td>\n      <td>Banana</td>\n      <td>4</td>\n      <td>2</td>\n      <td>8</td>\n      <td>Bob</td>\n      <td>4</td>\n    </tr>\n    <tr>\n      <th>6</th>\n      <td>Ord3</td>\n      <td>Grape</td>\n      <td>5</td>\n      <td>20</td>\n      <td>100</td>\n      <td>Bob</td>\n      <td>4</td>\n    </tr>\n    <tr>\n      <th>7</th>\n      <td>Ord3</td>\n      <td>Apple</td>\n      <td>6</td>\n      <td>10</td>\n      <td>60</td>\n      <td>Bob</td>\n      <td>4</td>\n    </tr>\n  </tbody>\n</table>\n</div>"
     },
     "metadata": {},
     "execution_count": 77
    }
   ],
   "source": [
    "data_merge_inner = data.merge(customer_info,  on = ['Order_No'], how = \"inner\")\n",
    "data_merge_inner"
   ]
  },
  {
   "cell_type": "code",
   "execution_count": 68,
   "metadata": {},
   "outputs": [
    {
     "output_type": "execute_result",
     "data": {
      "text/plain": [
       "  Order_No Product_Name  Product_Quantly  Price_per_Piece  Price Customer_Name\n",
       "0     Ord1        Apple                1               10     10          John\n",
       "1     Ord1       Banana               10                2     20          John\n",
       "2     Ord2        Grape                4               20     80           Rob\n",
       "3     Ord2        Apple                6               10     60           Rob\n",
       "4     Ord2        Mango                5               45    225           Rob\n",
       "5     Ord3       Banana                4                2      8           Bob\n",
       "6     Ord3        Grape                5               20    100           Bob\n",
       "7     Ord3        Apple                6               10     60           Bob\n",
       "8     Ord4     Cherries                7              100    700           NaN"
      ],
      "text/html": "<div>\n<style scoped>\n    .dataframe tbody tr th:only-of-type {\n        vertical-align: middle;\n    }\n\n    .dataframe tbody tr th {\n        vertical-align: top;\n    }\n\n    .dataframe thead th {\n        text-align: right;\n    }\n</style>\n<table border=\"1\" class=\"dataframe\">\n  <thead>\n    <tr style=\"text-align: right;\">\n      <th></th>\n      <th>Order_No</th>\n      <th>Product_Name</th>\n      <th>Product_Quantly</th>\n      <th>Price_per_Piece</th>\n      <th>Price</th>\n      <th>Customer_Name</th>\n    </tr>\n  </thead>\n  <tbody>\n    <tr>\n      <th>0</th>\n      <td>Ord1</td>\n      <td>Apple</td>\n      <td>1</td>\n      <td>10</td>\n      <td>10</td>\n      <td>John</td>\n    </tr>\n    <tr>\n      <th>1</th>\n      <td>Ord1</td>\n      <td>Banana</td>\n      <td>10</td>\n      <td>2</td>\n      <td>20</td>\n      <td>John</td>\n    </tr>\n    <tr>\n      <th>2</th>\n      <td>Ord2</td>\n      <td>Grape</td>\n      <td>4</td>\n      <td>20</td>\n      <td>80</td>\n      <td>Rob</td>\n    </tr>\n    <tr>\n      <th>3</th>\n      <td>Ord2</td>\n      <td>Apple</td>\n      <td>6</td>\n      <td>10</td>\n      <td>60</td>\n      <td>Rob</td>\n    </tr>\n    <tr>\n      <th>4</th>\n      <td>Ord2</td>\n      <td>Mango</td>\n      <td>5</td>\n      <td>45</td>\n      <td>225</td>\n      <td>Rob</td>\n    </tr>\n    <tr>\n      <th>5</th>\n      <td>Ord3</td>\n      <td>Banana</td>\n      <td>4</td>\n      <td>2</td>\n      <td>8</td>\n      <td>Bob</td>\n    </tr>\n    <tr>\n      <th>6</th>\n      <td>Ord3</td>\n      <td>Grape</td>\n      <td>5</td>\n      <td>20</td>\n      <td>100</td>\n      <td>Bob</td>\n    </tr>\n    <tr>\n      <th>7</th>\n      <td>Ord3</td>\n      <td>Apple</td>\n      <td>6</td>\n      <td>10</td>\n      <td>60</td>\n      <td>Bob</td>\n    </tr>\n    <tr>\n      <th>8</th>\n      <td>Ord4</td>\n      <td>Cherries</td>\n      <td>7</td>\n      <td>100</td>\n      <td>700</td>\n      <td>NaN</td>\n    </tr>\n  </tbody>\n</table>\n</div>"
     },
     "metadata": {},
     "execution_count": 68
    }
   ],
   "source": [
    "data_merge_left = data.merge(customer_info,  on = ['Order_No'], how = \"left\")\n",
    "data_merge_left"
   ]
  },
  {
   "cell_type": "code",
   "execution_count": 69,
   "metadata": {},
   "outputs": [
    {
     "output_type": "execute_result",
     "data": {
      "text/plain": [
       "  Order_No Product_Name  Product_Quantly  Price_per_Piece  Price Customer_Name\n",
       "0     Ord1        Apple              1.0             10.0   10.0          John\n",
       "1     Ord1       Banana             10.0              2.0   20.0          John\n",
       "2     Ord2        Grape              4.0             20.0   80.0           Rob\n",
       "3     Ord2        Apple              6.0             10.0   60.0           Rob\n",
       "4     Ord2        Mango              5.0             45.0  225.0           Rob\n",
       "5     Ord3       Banana              4.0              2.0    8.0           Bob\n",
       "6     Ord3        Grape              5.0             20.0  100.0           Bob\n",
       "7     Ord3        Apple              6.0             10.0   60.0           Bob\n",
       "8     Ord5          NaN              NaN              NaN    NaN          Mike"
      ],
      "text/html": "<div>\n<style scoped>\n    .dataframe tbody tr th:only-of-type {\n        vertical-align: middle;\n    }\n\n    .dataframe tbody tr th {\n        vertical-align: top;\n    }\n\n    .dataframe thead th {\n        text-align: right;\n    }\n</style>\n<table border=\"1\" class=\"dataframe\">\n  <thead>\n    <tr style=\"text-align: right;\">\n      <th></th>\n      <th>Order_No</th>\n      <th>Product_Name</th>\n      <th>Product_Quantly</th>\n      <th>Price_per_Piece</th>\n      <th>Price</th>\n      <th>Customer_Name</th>\n    </tr>\n  </thead>\n  <tbody>\n    <tr>\n      <th>0</th>\n      <td>Ord1</td>\n      <td>Apple</td>\n      <td>1.0</td>\n      <td>10.0</td>\n      <td>10.0</td>\n      <td>John</td>\n    </tr>\n    <tr>\n      <th>1</th>\n      <td>Ord1</td>\n      <td>Banana</td>\n      <td>10.0</td>\n      <td>2.0</td>\n      <td>20.0</td>\n      <td>John</td>\n    </tr>\n    <tr>\n      <th>2</th>\n      <td>Ord2</td>\n      <td>Grape</td>\n      <td>4.0</td>\n      <td>20.0</td>\n      <td>80.0</td>\n      <td>Rob</td>\n    </tr>\n    <tr>\n      <th>3</th>\n      <td>Ord2</td>\n      <td>Apple</td>\n      <td>6.0</td>\n      <td>10.0</td>\n      <td>60.0</td>\n      <td>Rob</td>\n    </tr>\n    <tr>\n      <th>4</th>\n      <td>Ord2</td>\n      <td>Mango</td>\n      <td>5.0</td>\n      <td>45.0</td>\n      <td>225.0</td>\n      <td>Rob</td>\n    </tr>\n    <tr>\n      <th>5</th>\n      <td>Ord3</td>\n      <td>Banana</td>\n      <td>4.0</td>\n      <td>2.0</td>\n      <td>8.0</td>\n      <td>Bob</td>\n    </tr>\n    <tr>\n      <th>6</th>\n      <td>Ord3</td>\n      <td>Grape</td>\n      <td>5.0</td>\n      <td>20.0</td>\n      <td>100.0</td>\n      <td>Bob</td>\n    </tr>\n    <tr>\n      <th>7</th>\n      <td>Ord3</td>\n      <td>Apple</td>\n      <td>6.0</td>\n      <td>10.0</td>\n      <td>60.0</td>\n      <td>Bob</td>\n    </tr>\n    <tr>\n      <th>8</th>\n      <td>Ord5</td>\n      <td>NaN</td>\n      <td>NaN</td>\n      <td>NaN</td>\n      <td>NaN</td>\n      <td>Mike</td>\n    </tr>\n  </tbody>\n</table>\n</div>"
     },
     "metadata": {},
     "execution_count": 69
    }
   ],
   "source": [
    "data_merge_right = data.merge(customer_info,  on = ['Order_No'], how = \"right\")\n",
    "data_merge_right"
   ]
  },
  {
   "cell_type": "code",
   "execution_count": 70,
   "metadata": {},
   "outputs": [
    {
     "output_type": "execute_result",
     "data": {
      "text/plain": [
       "  Order_No Product_Name  Product_Quantly  Price_per_Piece  Price Customer_Name\n",
       "0     Ord1        Apple              1.0             10.0   10.0          John\n",
       "1     Ord1       Banana             10.0              2.0   20.0          John\n",
       "2     Ord2        Grape              4.0             20.0   80.0           Rob\n",
       "3     Ord2        Apple              6.0             10.0   60.0           Rob\n",
       "4     Ord2        Mango              5.0             45.0  225.0           Rob\n",
       "5     Ord3       Banana              4.0              2.0    8.0           Bob\n",
       "6     Ord3        Grape              5.0             20.0  100.0           Bob\n",
       "7     Ord3        Apple              6.0             10.0   60.0           Bob\n",
       "8     Ord4     Cherries              7.0            100.0  700.0           NaN\n",
       "9     Ord5          NaN              NaN              NaN    NaN          Mike"
      ],
      "text/html": "<div>\n<style scoped>\n    .dataframe tbody tr th:only-of-type {\n        vertical-align: middle;\n    }\n\n    .dataframe tbody tr th {\n        vertical-align: top;\n    }\n\n    .dataframe thead th {\n        text-align: right;\n    }\n</style>\n<table border=\"1\" class=\"dataframe\">\n  <thead>\n    <tr style=\"text-align: right;\">\n      <th></th>\n      <th>Order_No</th>\n      <th>Product_Name</th>\n      <th>Product_Quantly</th>\n      <th>Price_per_Piece</th>\n      <th>Price</th>\n      <th>Customer_Name</th>\n    </tr>\n  </thead>\n  <tbody>\n    <tr>\n      <th>0</th>\n      <td>Ord1</td>\n      <td>Apple</td>\n      <td>1.0</td>\n      <td>10.0</td>\n      <td>10.0</td>\n      <td>John</td>\n    </tr>\n    <tr>\n      <th>1</th>\n      <td>Ord1</td>\n      <td>Banana</td>\n      <td>10.0</td>\n      <td>2.0</td>\n      <td>20.0</td>\n      <td>John</td>\n    </tr>\n    <tr>\n      <th>2</th>\n      <td>Ord2</td>\n      <td>Grape</td>\n      <td>4.0</td>\n      <td>20.0</td>\n      <td>80.0</td>\n      <td>Rob</td>\n    </tr>\n    <tr>\n      <th>3</th>\n      <td>Ord2</td>\n      <td>Apple</td>\n      <td>6.0</td>\n      <td>10.0</td>\n      <td>60.0</td>\n      <td>Rob</td>\n    </tr>\n    <tr>\n      <th>4</th>\n      <td>Ord2</td>\n      <td>Mango</td>\n      <td>5.0</td>\n      <td>45.0</td>\n      <td>225.0</td>\n      <td>Rob</td>\n    </tr>\n    <tr>\n      <th>5</th>\n      <td>Ord3</td>\n      <td>Banana</td>\n      <td>4.0</td>\n      <td>2.0</td>\n      <td>8.0</td>\n      <td>Bob</td>\n    </tr>\n    <tr>\n      <th>6</th>\n      <td>Ord3</td>\n      <td>Grape</td>\n      <td>5.0</td>\n      <td>20.0</td>\n      <td>100.0</td>\n      <td>Bob</td>\n    </tr>\n    <tr>\n      <th>7</th>\n      <td>Ord3</td>\n      <td>Apple</td>\n      <td>6.0</td>\n      <td>10.0</td>\n      <td>60.0</td>\n      <td>Bob</td>\n    </tr>\n    <tr>\n      <th>8</th>\n      <td>Ord4</td>\n      <td>Cherries</td>\n      <td>7.0</td>\n      <td>100.0</td>\n      <td>700.0</td>\n      <td>NaN</td>\n    </tr>\n    <tr>\n      <th>9</th>\n      <td>Ord5</td>\n      <td>NaN</td>\n      <td>NaN</td>\n      <td>NaN</td>\n      <td>NaN</td>\n      <td>Mike</td>\n    </tr>\n  </tbody>\n</table>\n</div>"
     },
     "metadata": {},
     "execution_count": 70
    }
   ],
   "source": [
    "data_merge_outer = data.merge(customer_info,  on = ['Order_No'], how = \"outer\")\n",
    "data_merge_outer"
   ]
  },
  {
   "cell_type": "markdown",
   "metadata": {},
   "source": [
    "## Questions \n",
    "### 1 -> No. of orders in which customer information is missing "
   ]
  },
  {
   "cell_type": "code",
   "execution_count": 78,
   "metadata": {},
   "outputs": [
    {
     "output_type": "execute_result",
     "data": {
      "text/plain": [
       "      Name Gender\n",
       "0  Shubham      M\n",
       "1    Kapil      M"
      ],
      "text/html": "<div>\n<style scoped>\n    .dataframe tbody tr th:only-of-type {\n        vertical-align: middle;\n    }\n\n    .dataframe tbody tr th {\n        vertical-align: top;\n    }\n\n    .dataframe thead th {\n        text-align: right;\n    }\n</style>\n<table border=\"1\" class=\"dataframe\">\n  <thead>\n    <tr style=\"text-align: right;\">\n      <th></th>\n      <th>Name</th>\n      <th>Gender</th>\n    </tr>\n  </thead>\n  <tbody>\n    <tr>\n      <th>0</th>\n      <td>Shubham</td>\n      <td>M</td>\n    </tr>\n    <tr>\n      <th>1</th>\n      <td>Kapil</td>\n      <td>M</td>\n    </tr>\n  </tbody>\n</table>\n</div>"
     },
     "metadata": {},
     "execution_count": 78
    }
   ],
   "source": [
    "df1 = pd.DataFrame({\"Name\":[\"Shubham\",\"Kapil\"],\n",
    "                   \"Gender\": [\"M\",\"M\"]})\n",
    "df1"
   ]
  },
  {
   "cell_type": "code",
   "execution_count": 81,
   "metadata": {},
   "outputs": [
    {
     "output_type": "execute_result",
     "data": {
      "text/plain": [
       "      Name Gender\n",
       "0    Sachi      F\n",
       "1  Krishna      M\n",
       "2  Shubham      M"
      ],
      "text/html": "<div>\n<style scoped>\n    .dataframe tbody tr th:only-of-type {\n        vertical-align: middle;\n    }\n\n    .dataframe tbody tr th {\n        vertical-align: top;\n    }\n\n    .dataframe thead th {\n        text-align: right;\n    }\n</style>\n<table border=\"1\" class=\"dataframe\">\n  <thead>\n    <tr style=\"text-align: right;\">\n      <th></th>\n      <th>Name</th>\n      <th>Gender</th>\n    </tr>\n  </thead>\n  <tbody>\n    <tr>\n      <th>0</th>\n      <td>Sachi</td>\n      <td>F</td>\n    </tr>\n    <tr>\n      <th>1</th>\n      <td>Krishna</td>\n      <td>M</td>\n    </tr>\n    <tr>\n      <th>2</th>\n      <td>Shubham</td>\n      <td>M</td>\n    </tr>\n  </tbody>\n</table>\n</div>"
     },
     "metadata": {},
     "execution_count": 81
    }
   ],
   "source": [
    "df2 = pd.DataFrame({\"Name\":[\"Sachi\",\"Krishna\",\"Shubham\"],\n",
    "                   \"Gender\": [\"F\",\"M\",\"M\"]})\n",
    "df2"
   ]
  },
  {
   "cell_type": "code",
   "execution_count": 85,
   "metadata": {},
   "outputs": [
    {
     "output_type": "execute_result",
     "data": {
      "text/plain": [
       "      Name Gender\n",
       "0  Shubham      M\n",
       "1    Kapil      M\n",
       "0    Sachi      F\n",
       "1  Krishna      M\n",
       "2  Shubham      M"
      ],
      "text/html": "<div>\n<style scoped>\n    .dataframe tbody tr th:only-of-type {\n        vertical-align: middle;\n    }\n\n    .dataframe tbody tr th {\n        vertical-align: top;\n    }\n\n    .dataframe thead th {\n        text-align: right;\n    }\n</style>\n<table border=\"1\" class=\"dataframe\">\n  <thead>\n    <tr style=\"text-align: right;\">\n      <th></th>\n      <th>Name</th>\n      <th>Gender</th>\n    </tr>\n  </thead>\n  <tbody>\n    <tr>\n      <th>0</th>\n      <td>Shubham</td>\n      <td>M</td>\n    </tr>\n    <tr>\n      <th>1</th>\n      <td>Kapil</td>\n      <td>M</td>\n    </tr>\n    <tr>\n      <th>0</th>\n      <td>Sachi</td>\n      <td>F</td>\n    </tr>\n    <tr>\n      <th>1</th>\n      <td>Krishna</td>\n      <td>M</td>\n    </tr>\n    <tr>\n      <th>2</th>\n      <td>Shubham</td>\n      <td>M</td>\n    </tr>\n  </tbody>\n</table>\n</div>"
     },
     "metadata": {},
     "execution_count": 85
    }
   ],
   "source": [
    "pd.concat([df1,df2], axis=0)"
   ]
  },
  {
   "cell_type": "code",
   "execution_count": 86,
   "metadata": {},
   "outputs": [
    {
     "output_type": "execute_result",
     "data": {
      "text/plain": [
       "      Name Gender     Name Gender\n",
       "0  Shubham      M    Sachi      F\n",
       "1    Kapil      M  Krishna      M\n",
       "2      NaN    NaN  Shubham      M"
      ],
      "text/html": "<div>\n<style scoped>\n    .dataframe tbody tr th:only-of-type {\n        vertical-align: middle;\n    }\n\n    .dataframe tbody tr th {\n        vertical-align: top;\n    }\n\n    .dataframe thead th {\n        text-align: right;\n    }\n</style>\n<table border=\"1\" class=\"dataframe\">\n  <thead>\n    <tr style=\"text-align: right;\">\n      <th></th>\n      <th>Name</th>\n      <th>Gender</th>\n      <th>Name</th>\n      <th>Gender</th>\n    </tr>\n  </thead>\n  <tbody>\n    <tr>\n      <th>0</th>\n      <td>Shubham</td>\n      <td>M</td>\n      <td>Sachi</td>\n      <td>F</td>\n    </tr>\n    <tr>\n      <th>1</th>\n      <td>Kapil</td>\n      <td>M</td>\n      <td>Krishna</td>\n      <td>M</td>\n    </tr>\n    <tr>\n      <th>2</th>\n      <td>NaN</td>\n      <td>NaN</td>\n      <td>Shubham</td>\n      <td>M</td>\n    </tr>\n  </tbody>\n</table>\n</div>"
     },
     "metadata": {},
     "execution_count": 86
    }
   ],
   "source": [
    "pd.concat([df1,df2], axis=1)"
   ]
  },
  {
   "cell_type": "code",
   "execution_count": 87,
   "metadata": {},
   "outputs": [
    {
     "output_type": "execute_result",
     "data": {
      "text/plain": [
       "  Course\n",
       "0     ML\n",
       "1     DS"
      ],
      "text/html": "<div>\n<style scoped>\n    .dataframe tbody tr th:only-of-type {\n        vertical-align: middle;\n    }\n\n    .dataframe tbody tr th {\n        vertical-align: top;\n    }\n\n    .dataframe thead th {\n        text-align: right;\n    }\n</style>\n<table border=\"1\" class=\"dataframe\">\n  <thead>\n    <tr style=\"text-align: right;\">\n      <th></th>\n      <th>Course</th>\n    </tr>\n  </thead>\n  <tbody>\n    <tr>\n      <th>0</th>\n      <td>ML</td>\n    </tr>\n    <tr>\n      <th>1</th>\n      <td>DS</td>\n    </tr>\n  </tbody>\n</table>\n</div>"
     },
     "metadata": {},
     "execution_count": 87
    }
   ],
   "source": [
    "df3 = pd.DataFrame({\"Course\":[\"ML\",\"DS\"]})\n",
    "df3"
   ]
  },
  {
   "cell_type": "code",
   "execution_count": 88,
   "metadata": {},
   "outputs": [
    {
     "output_type": "execute_result",
     "data": {
      "text/plain": [
       "      Name Gender Course\n",
       "0  Shubham      M    NaN\n",
       "1    Kapil      M    NaN\n",
       "0      NaN    NaN     ML\n",
       "1      NaN    NaN     DS"
      ],
      "text/html": "<div>\n<style scoped>\n    .dataframe tbody tr th:only-of-type {\n        vertical-align: middle;\n    }\n\n    .dataframe tbody tr th {\n        vertical-align: top;\n    }\n\n    .dataframe thead th {\n        text-align: right;\n    }\n</style>\n<table border=\"1\" class=\"dataframe\">\n  <thead>\n    <tr style=\"text-align: right;\">\n      <th></th>\n      <th>Name</th>\n      <th>Gender</th>\n      <th>Course</th>\n    </tr>\n  </thead>\n  <tbody>\n    <tr>\n      <th>0</th>\n      <td>Shubham</td>\n      <td>M</td>\n      <td>NaN</td>\n    </tr>\n    <tr>\n      <th>1</th>\n      <td>Kapil</td>\n      <td>M</td>\n      <td>NaN</td>\n    </tr>\n    <tr>\n      <th>0</th>\n      <td>NaN</td>\n      <td>NaN</td>\n      <td>ML</td>\n    </tr>\n    <tr>\n      <th>1</th>\n      <td>NaN</td>\n      <td>NaN</td>\n      <td>DS</td>\n    </tr>\n  </tbody>\n</table>\n</div>"
     },
     "metadata": {},
     "execution_count": 88
    }
   ],
   "source": [
    "pd.concat([df1,df3], axis=0)"
   ]
  },
  {
   "cell_type": "code",
   "execution_count": null,
   "metadata": {},
   "outputs": [],
   "source": [
    "df2 = pd.DataFrame({\"Name\":[\"Dev\",\"Shikha\",\"Shubham\"],\n",
    "                   \"Gender1\": [\"M\",\"F\",\"M\"],\n",
    "                   \"Account\": [1000,2000,3000]})\n",
    "df2"
   ]
  },
  {
   "cell_type": "code",
   "execution_count": null,
   "metadata": {},
   "outputs": [],
   "source": [
    "pd.concat([df1,df2], axis=0)"
   ]
  },
  {
   "cell_type": "code",
   "execution_count": null,
   "metadata": {},
   "outputs": [],
   "source": [
    "data"
   ]
  },
  {
   "cell_type": "code",
   "execution_count": null,
   "metadata": {},
   "outputs": [],
   "source": [
    "data.pivot_table(index = \"Order_No\", columns = \"Product_Name\", values = \"Price_per_Piece\", aggfunc = \"sum\")"
   ]
  },
  {
   "cell_type": "code",
   "execution_count": null,
   "metadata": {},
   "outputs": [],
   "source": [
    "data"
   ]
  },
  {
   "cell_type": "code",
   "execution_count": null,
   "metadata": {},
   "outputs": [],
   "source": [
    "data.iloc[4]"
   ]
  },
  {
   "cell_type": "code",
   "execution_count": null,
   "metadata": {},
   "outputs": [],
   "source": [
    "data_index = data.set_index(['Order_No'])\n",
    "data_index"
   ]
  },
  {
   "cell_type": "code",
   "execution_count": null,
   "metadata": {},
   "outputs": [],
   "source": [
    "data_index.loc[[\"Ord3\",\"Ord1\"]]"
   ]
  },
  {
   "cell_type": "code",
   "execution_count": null,
   "metadata": {},
   "outputs": [],
   "source": [
    "data[(data.Order_No == \"Ord1\") & (data.Product_Name == \"Apple\") ]"
   ]
  },
  {
   "cell_type": "code",
   "execution_count": null,
   "metadata": {},
   "outputs": [],
   "source": [
    "data[(data.Order_No.isin([\"Ord1\",\"Ord2\"])) & (data.Product_Name == \"Apple\") ]"
   ]
  },
  {
   "cell_type": "code",
   "execution_count": null,
   "metadata": {},
   "outputs": [],
   "source": []
  }
 ]
}